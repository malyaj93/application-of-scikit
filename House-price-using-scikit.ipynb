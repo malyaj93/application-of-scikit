{
 "cells": [
  {
   "cell_type": "markdown",
   "metadata": {},
   "source": [
    "CPSC 483  Project 3\n",
    "due March 26 (Section 02)\n",
    "Team Member Names\n",
    "#Kenny Giang           CWID: 890062292\n",
    "#Christopher Millones  CWID: 887355980\n",
    "#Suhrab Yeawary        CWID: 888200631\n",
    "*******************README****************\n",
    "In this project we used scikit-learn which is considered as higher-level machine learning libarary that worked \n",
    "with NumPy, and we had to work with linear and polynomial regression models.\n",
    "we started our work from \n",
    "1) Loaded up the Boston dataset the same as the last 2 projects\n",
    "2) We made 'CRIM' the new target value by assigning \"bostonTargets\" to the whole set and then removing all the columns except 'CRIM'. I was trying to find a way to index the \".data\" but I couldn't get anything to work. I changed feature by assigning a var \"MEDV\" and\n",
    " the target and then adding it to bostonFeatures and then dropping 'CRIM' from it.\n",
    "3) We had to create  a scatterplot of the training data showing the relationship between the percentage of the population that is lower status and the median value of a home which was similar to project 2 \n",
    "however, we had hard time with 4,6,8 where we spend most of our time trying to get the algorithm and second try to convert it in python language. \n",
    "4) we had create the fit() using the model and the coef_ and intercept_ attributes of the model, \n",
    "what is the equation for MEDV as a linear function of LSTAT here we had to work on coef and intercept attributes and model and here the team was having hard time getting the concept work.\n",
    "5) we have had to use the attributes of the model to add a line which would represent the least squares fit in the scatter this was not that hard to the team since we had done it on project2.\n",
    "\n",
    "6) we had to se the predict() method of the model to find the response for each value of the LSTAT attribute in the training set. \n",
    "Using sklearn.metrics.mean_squared_error(), find the average loss 𝓛 for the training set.\n",
    "After #6 it was pretty much repeating the experiment and however, this project was pretty hard for the team \n",
    "but we worked together and made it work.\n",
    "\n",
    "\n",
    "*******************CODE******************************\n"
   ]
  },
  {
   "cell_type": "markdown",
   "metadata": {},
   "source": [
    "#1 creating the feature and targeting sets "
   ]
  },
  {
   "cell_type": "code",
   "execution_count": 3,
   "metadata": {},
   "outputs": [],
   "source": [
    "import numpy as np\n",
    "import matplotlib.pyplot as plt\n",
    "from numpy.linalg import inv\n",
    "\n",
    "#1\n",
    "data = np.load('boston.npz')\n",
    "features = np.array(data['features'])\n",
    "target = np.array(data['target'])"
   ]
  },
  {
   "cell_type": "markdown",
   "metadata": {},
   "source": [
    "#2 "
   ]
  },
  {
   "cell_type": "code",
   "execution_count": 6,
   "metadata": {},
   "outputs": [
    {
     "ename": "AttributeError",
     "evalue": "'numpy.ndarray' object has no attribute 'LSTAT'",
     "output_type": "error",
     "traceback": [
      "\u001b[1;31m---------------------------------------------------------------------------\u001b[0m",
      "\u001b[1;31mAttributeError\u001b[0m                            Traceback (most recent call last)",
      "\u001b[1;32m<ipython-input-6-0c24b98e1e88>\u001b[0m in \u001b[0;36m<module>\u001b[1;34m\u001b[0m\n\u001b[0;32m     12\u001b[0m                                  random_state=(2021-3-11))\n\u001b[0;32m     13\u001b[0m \u001b[1;33m\u001b[0m\u001b[0m\n\u001b[1;32m---> 14\u001b[1;33m \u001b[0mprint\u001b[0m\u001b[1;33m(\u001b[0m\u001b[0mft\u001b[0m\u001b[1;33m.\u001b[0m\u001b[0mLSTAT\u001b[0m\u001b[1;33m)\u001b[0m\u001b[1;33m\u001b[0m\u001b[1;33m\u001b[0m\u001b[0m\n\u001b[0m\u001b[0;32m     15\u001b[0m \u001b[1;33m\u001b[0m\u001b[0m\n\u001b[0;32m     16\u001b[0m \u001b[1;33m\u001b[0m\u001b[0m\n",
      "\u001b[1;31mAttributeError\u001b[0m: 'numpy.ndarray' object has no attribute 'LSTAT'"
     ]
    }
   ],
   "source": [
    "from sklearn.model_selection import train_test_split\n",
    "\n",
    "#ft = feature_training\n",
    "#fts = feature_test_sets\n",
    "#tt = target_trainning\n",
    "#tts = target_test_sets\n",
    "\n",
    "ft,fts,tt,tts = train_test_split(features, \n",
    "                                 target, \n",
    "                                 test_size=.20,\n",
    "                                 train_size=.80,\n",
    "                                 random_state=(2021-3-11))\n",
    "\n",
    "\n",
    "LSTAT = ft[:,12][:,None]\n",
    "LSTAT2 = fts[:,12][:,None]\n",
    "MEDV = tt[:,None]\n",
    "tts_degree2 = tts[:,None]\n"
   ]
  },
  {
   "cell_type": "markdown",
   "metadata": {},
   "source": [
    "#3 \n",
    "Does the relationship appear to be linear?\n",
    "The graph below does NOT appear to be linear. "
   ]
  },
  {
   "cell_type": "code",
   "execution_count": 261,
   "metadata": {},
   "outputs": [
    {
     "data": {
      "text/plain": [
       "Text(0, 0.5, 'Median value of homes')"
      ]
     },
     "execution_count": 261,
     "metadata": {},
     "output_type": "execute_result"
    },
    {
     "data": {
      "image/png": "[encoded data removed]",
      "text/plain": [
       "<Figure size 432x288 with 1 Axes>"
      ]
     },
     "metadata": {
      "needs_background": "light"
     },
     "output_type": "display_data"
    }
   ],
   "source": [
    "plt.plot(LSTAT, MEDV, 'ro')\n",
    "plt.xlabel(\"% lower status of the population\")\n",
    "plt.ylabel(\"Median value of homes\")"
   ]
  },
  {
   "cell_type": "markdown",
   "metadata": {},
   "source": [
    "#4 \n",
    "what is the equation for MEDV as a linear function of LSTAT?\n",
    "MEDV = -0.94711632LSTAT + 34.65935978"
   ]
  },
  {
   "cell_type": "code",
   "execution_count": 262,
   "metadata": {},
   "outputs": [
    {
     "name": "stdout",
     "output_type": "stream",
     "text": [
      "[[-0.98093888]]\n",
      "[34.99113302]\n"
     ]
    }
   ],
   "source": [
    "from sklearn.linear_model import LinearRegression\n",
    "reg = LinearRegression().fit(LSTAT,MEDV)\n",
    "print(reg.coef_)\n",
    "print(reg.intercept_)\n"
   ]
  },
  {
   "cell_type": "markdown",
   "metadata": {},
   "source": [
    "#5\n",
    "How well does the model appear to fit the training data? \n",
    "The model appears to underfit the data"
   ]
  },
  {
   "cell_type": "code",
   "execution_count": 263,
   "metadata": {},
   "outputs": [
    {
     "data": {
      "text/plain": [
       "[<matplotlib.lines.Line2D at 0x1de7a750>]"
      ]
     },
     "execution_count": 263,
     "metadata": {},
     "output_type": "execute_result"
    },
    {
     "data": {
      "image/png": "[encoded data removed]",
      "text/plain": [
       "<Figure size 432x288 with 1 Axes>"
      ]
     },
     "metadata": {
      "needs_background": "light"
     },
     "output_type": "display_data"
    }
   ],
   "source": [
    "testx = np.linspace(min(LSTAT),max(LSTAT),404)\n",
    "testX = np.hstack((np.ones_like(testx),testx))\n",
    "testt = np.dot(testX,[34.65935978,-0.94711632])\n",
    "\n",
    "plt.plot(LSTAT, MEDV, 'ro')\n",
    "plt.xlabel(\"% lower status of the population\")\n",
    "plt.ylabel(\"Median value of homes\")\n",
    "plt.plot(testx,testt,'b')"
   ]
  },
  {
   "cell_type": "markdown",
   "metadata": {},
   "source": [
    "#6\n",
    "MSE = 38.47893344802523"
   ]
  },
  {
   "cell_type": "code",
   "execution_count": 264,
   "metadata": {},
   "outputs": [
    {
     "data": {
      "text/plain": [
       "38.47893344802523"
      ]
     },
     "execution_count": 264,
     "metadata": {},
     "output_type": "execute_result"
    }
   ],
   "source": [
    "from sklearn.metrics import mean_squared_error\n",
    "ft_prediction = reg.predict(ft[:,12][:,None])\n",
    "ft_mse = mean_squared_error(y_true=tt, y_pred=ft_prediction )\n",
    "\n",
    "\n",
    "\n",
    "ft_mse"
   ]
  },
  {
   "cell_type": "markdown",
   "metadata": {},
   "source": [
    "#7\n",
    "MSE = 38.75054664279497\n",
    "How do the training and test MSE values compare? \n",
    "They are very much similar. "
   ]
  },
  {
   "cell_type": "code",
   "execution_count": 265,
   "metadata": {
    "scrolled": true
   },
   "outputs": [
    {
     "data": {
      "text/plain": [
       "38.75054664279497"
      ]
     },
     "execution_count": 265,
     "metadata": {},
     "output_type": "execute_result"
    }
   ],
   "source": [
    "fts_prediction = reg.predict(fts[:,12][:,None])\n",
    "fts_mse = mean_squared_error(y_true=tts, y_pred=fts_prediction )\n",
    "\n",
    "\n",
    "fts_mse"
   ]
  },
  {
   "cell_type": "markdown",
   "metadata": {},
   "source": [
    "#8\n"
   ]
  },
  {
   "cell_type": "code",
   "execution_count": 266,
   "metadata": {},
   "outputs": [
    {
     "name": "stdout",
     "output_type": "stream",
     "text": [
      "[[-2.365919    0.04440767]]\n",
      "[43.07121508]\n"
     ]
    }
   ],
   "source": [
    "for i in range(1,404):\n",
    "    LSTAT_degree2=np.hstack((LSTAT,LSTAT**2))\n",
    "    \n",
    "\n",
    "reg2 = LinearRegression().fit(LSTAT_degree2,MEDV)\n",
    "print(reg2.coef_)\n",
    "print(reg2.intercept_)"
   ]
  },
  {
   "cell_type": "code",
   "execution_count": 267,
   "metadata": {},
   "outputs": [
    {
     "data": {
      "text/plain": [
       "30.598514349370962"
      ]
     },
     "execution_count": 267,
     "metadata": {},
     "output_type": "execute_result"
    }
   ],
   "source": [
    "ft_prediction_2 = reg2.predict(LSTAT_degree2)\n",
    "ft_mse_2 = mean_squared_error(y_true=tt, y_pred=ft_prediction_2)\n",
    "\n",
    "ft_mse_2"
   ]
  },
  {
   "cell_type": "code",
   "execution_count": 268,
   "metadata": {
    "scrolled": false
   },
   "outputs": [
    {
     "data": {
      "text/plain": [
       "29.297124138279123"
      ]
     },
     "execution_count": 268,
     "metadata": {},
     "output_type": "execute_result"
    }
   ],
   "source": [
    "for i in range(1,404):\n",
    "    LSTAT_degree2=np.hstack((LSTAT2,LSTAT2**2))\n",
    "    \n",
    "ft_prediction_2 = reg2.predict(LSTAT_degree2)\n",
    "ft_mse_2 = mean_squared_error(y_true=tts, \n",
    "                              y_pred=ft_prediction_2)\n",
    "ft_mse_2"
   ]
  }
 ],
 "metadata": {
  "kernelspec": {
   "display_name": "Python 3",
   "language": "python",
   "name": "python3"
  },
  "language_info": {
   "codemirror_mode": {
    "name": "ipython",
    "version": 3
   },
   "file_extension": ".py",
   "mimetype": "text/x-python",
   "name": "python",
   "nbconvert_exporter": "python",
   "pygments_lexer": "ipython3",
   "version": "3.8.5"
  }
 },
 "nbformat": 4,
 "nbformat_minor": 2
}
